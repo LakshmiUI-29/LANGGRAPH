{
 "cells": [
  {
   "cell_type": "code",
   "execution_count": 2,
   "id": "1d3953d3",
   "metadata": {},
   "outputs": [
    {
     "name": "stdout",
     "output_type": "stream",
     "text": [
      "/opt/anaconda3/bin/python\n"
     ]
    }
   ],
   "source": [
    "import sys\n",
    "print(sys.executable)"
   ]
  },
  {
   "cell_type": "code",
   "execution_count": 3,
   "id": "00f5c48e",
   "metadata": {},
   "outputs": [],
   "source": [
    "from langchain_community.tools import WikipediaQueryRun"
   ]
  },
  {
   "cell_type": "code",
   "execution_count": 4,
   "id": "a16c4fe3",
   "metadata": {},
   "outputs": [],
   "source": [
    "from langchain_community.utilities import WikipediaAPIWrapper"
   ]
  },
  {
   "cell_type": "code",
   "execution_count": 5,
   "id": "450c0cb6",
   "metadata": {},
   "outputs": [],
   "source": [
    "api_wrapper = WikipediaAPIWrapper(top_k_results=5,doc_content_chars_max=500)"
   ]
  },
  {
   "cell_type": "code",
   "execution_count": 6,
   "id": "44436be9",
   "metadata": {},
   "outputs": [],
   "source": [
    "wiki_tool=WikipediaQueryRun(api_wrapper=api_wrapper)"
   ]
  },
  {
   "cell_type": "code",
   "execution_count": 7,
   "id": "5f3d609d",
   "metadata": {},
   "outputs": [
    {
     "data": {
      "text/plain": [
       "'wikipedia'"
      ]
     },
     "execution_count": 7,
     "metadata": {},
     "output_type": "execute_result"
    }
   ],
   "source": [
    "wiki_tool.name "
   ]
  },
  {
   "cell_type": "code",
   "execution_count": 8,
   "id": "112bfe99",
   "metadata": {},
   "outputs": [
    {
     "data": {
      "text/plain": [
       "'A wrapper around Wikipedia. Useful for when you need to answer general questions about people, places, companies, facts, historical events, or other subjects. Input should be a search query.'"
      ]
     },
     "execution_count": 8,
     "metadata": {},
     "output_type": "execute_result"
    }
   ],
   "source": [
    "wiki_tool.description"
   ]
  },
  {
   "cell_type": "code",
   "execution_count": 9,
   "id": "f32f528b",
   "metadata": {},
   "outputs": [
    {
     "data": {
      "text/plain": [
       "{'query': {'description': 'query to look up on wikipedia',\n",
       "  'title': 'Query',\n",
       "  'type': 'string'}}"
      ]
     },
     "execution_count": 9,
     "metadata": {},
     "output_type": "execute_result"
    }
   ],
   "source": [
    "wiki_tool.args"
   ]
  },
  {
   "cell_type": "code",
   "execution_count": 10,
   "id": "d96c38e0",
   "metadata": {},
   "outputs": [
    {
     "data": {
      "text/plain": [
       "\"Page: Lakshmi\\nSummary: Lakshmi (; Sanskrit: लक्ष्मी, IAST: Lakṣmī, sometimes spelled Laxmi, lit.\\u2009'she who leads to one's goal'), also known as Shri (Sanskrit: श्री, IAST: Śrī, lit.\\u2009'Noble'), is one of the principal goddesses in Hinduism, revered as the goddess of wealth, fortune, prosperity, beauty, fertility,  sovereignty, and abundance. She along with Parvati and Sarasvati, form the trinity of goddesses called the Tridevi.\\nLakshmi has been a central figure in Hindu tradition since pre-Buddhist\""
      ]
     },
     "execution_count": 10,
     "metadata": {},
     "output_type": "execute_result"
    }
   ],
   "source": [
    "wiki_tool.run({\"query\":\"lakshmi\"})"
   ]
  },
  {
   "cell_type": "code",
   "execution_count": 3,
   "id": "373f9555",
   "metadata": {},
   "outputs": [],
   "source": [
    "from langchain_community.tools import YouTubeSearchTool"
   ]
  },
  {
   "cell_type": "code",
   "execution_count": 4,
   "id": "d019cfbc",
   "metadata": {},
   "outputs": [],
   "source": [
    "tool=YouTubeSearchTool()"
   ]
  },
  {
   "cell_type": "code",
   "execution_count": 5,
   "id": "9f45f380",
   "metadata": {},
   "outputs": [
    {
     "data": {
      "text/plain": [
       "{'query': {'title': 'Query', 'type': 'string'}}"
      ]
     },
     "execution_count": 5,
     "metadata": {},
     "output_type": "execute_result"
    }
   ],
   "source": [
    "tool.description\n",
    "tool.name\n",
    "tool.args"
   ]
  },
  {
   "cell_type": "code",
   "execution_count": 6,
   "id": "41ca7044",
   "metadata": {},
   "outputs": [
    {
     "name": "stdout",
     "output_type": "stream",
     "text": [
      "Collecting youtube-search\n",
      "  Downloading youtube_search-2.1.2-py3-none-any.whl.metadata (1.2 kB)\n",
      "Requirement already satisfied: requests in /opt/anaconda3/lib/python3.12/site-packages (from youtube-search) (2.32.2)\n",
      "Requirement already satisfied: charset-normalizer<4,>=2 in /opt/anaconda3/lib/python3.12/site-packages (from requests->youtube-search) (2.0.4)\n",
      "Requirement already satisfied: idna<4,>=2.5 in /opt/anaconda3/lib/python3.12/site-packages (from requests->youtube-search) (3.7)\n",
      "Requirement already satisfied: urllib3<3,>=1.21.1 in /opt/anaconda3/lib/python3.12/site-packages (from requests->youtube-search) (2.2.2)\n",
      "Requirement already satisfied: certifi>=2017.4.17 in /opt/anaconda3/lib/python3.12/site-packages (from requests->youtube-search) (2024.8.30)\n",
      "Downloading youtube_search-2.1.2-py3-none-any.whl (3.4 kB)\n",
      "Installing collected packages: youtube-search\n",
      "Successfully installed youtube-search-2.1.2\n",
      "Note: you may need to restart the kernel to use updated packages.\n"
     ]
    }
   ],
   "source": [
    "pip install youtube-search"
   ]
  },
  {
   "cell_type": "code",
   "execution_count": 6,
   "id": "da92c1c0",
   "metadata": {},
   "outputs": [
    {
     "data": {
      "text/plain": [
       "\"['https://www.youtube.com/watch?v=oFMixPMJ6Ko&pp=ygUMc3Vubnkgc2F2aXRh', 'https://www.youtube.com/watch?v=-GdWEiJsVDA&pp=ygUMc3Vubnkgc2F2aXRh']\""
      ]
     },
     "execution_count": 6,
     "metadata": {},
     "output_type": "execute_result"
    }
   ],
   "source": [
    "tool.run(\"sunny savita\")"
   ]
  },
  {
   "cell_type": "code",
   "execution_count": null,
   "id": "7831bc6b",
   "metadata": {},
   "outputs": [
    {
     "data": {
      "text/plain": [
       "{'query': {'description': 'search query to look up',\n",
       "  'title': 'Query',\n",
       "  'type': 'string'}}"
      ]
     },
     "execution_count": 8,
     "metadata": {},
     "output_type": "execute_result"
    }
   ],
   "source": [
    "from langchain_community.tools.tavily_search import TavilySearchResults\n",
    "tavily_search = TavilySearchResults(tavily_api_key=\"YOUR_TAVILY_API_KEY\")\n",
    "tavily_search.name\n",
    "tavily_search.description\n",
    "tavily_search.args"
   ]
  },
  {
   "cell_type": "code",
   "execution_count": 12,
   "id": "71a6ca61",
   "metadata": {},
   "outputs": [
    {
     "data": {
      "text/plain": [
       "[{'title': \"Several Killed as RCB's Victory Celebration Turns Deadly - YouTube\",\n",
       "  'url': 'https://www.youtube.com/watch?v=gz8chxY7elU',\n",
       "  'content': \"At least 11 people were killed and 30 injured in a stampede outside the Chinnaswamy cricket stadium in Bengaluru. The incident happened during the Royal Challengers' victory celebrations after their first IPL triumph in 18 years. Did the state government underestimate the rush? Were crowd control measures not in place? Palki Sharma tells you.\\n\\n--- [...] soon the fan frenzy turned fatal. The exact details are not clear yet but reports say the rush led to a stampede. At least 11 people were killed, including children, and more than 30 were injured. Like I said, the exact sequence of events is unclear, but these pictures give you an idea. Uh you can see fans climbing up fences and trees. In some places, the police pushed back with force. We will show you the pictures, but as always, viewer discretion is advised. [Applause] [Music] [Applause] Such [...] the gates also. So stampede has taken place. Of course it should not have been happened. This this tragedy should not have been happened. We are with the sufferers victims. victims. And what about the event? The ceremony had already started inside the stadium. That's where news of the stampede came in. Karnataka's deputy chief minister says the event was cut short. It was wrapped up within 10 to 15 minutes. Initially, a bus parade had also been planned. That too was cancelled. But who takes\",\n",
       "  'score': 0.76972175},\n",
       " {'title': \"Bengaluru stampede case: What we know so far on RCB's ...\",\n",
       "  'url': 'https://timesofindia.indiatimes.com/sports/cricket/ipl/top-stories/bengaluru-stampede-case-what-we-know-so-far-on-rcbs-celebrations-that-turned-catastrophic/articleshow/121670873.cms',\n",
       "  'content': \"[Follow us](https://news.google.com/publications/CAAqBwgKMM6y_Qowwu70Ag)\\n\\nRoyal Challengers Bengaluru's IPL victory celebrations turned tragic as a stampede at M Chinnaswamy Stadium resulted in 11 deaths and 75 injuries. FIRs have been filed against RCB, events organisers DNA, and Karnataka State Cricket Association for alleged negligence. The Karnataka High Court has sought a report from the government while arrests have been and officials suspended.\\n\\nRead More [...] ![Image 2: RCB Victory Parade: At least 8 Dead, Several Injured In Stampede Outside Bengaluru Stadium](https://static.toiimg.com/thumb/msid-121671297,imgsize-75322,width-400,resizemode-4/121671297.jpg)\\n\\n05:37\\n\\nVirat Kohli and the Royal Challengers Bengaluru team's celebrations turned tragic after a stampede at the Chinnaswamy Stadium. (PTI) [...] [](https://timesofindia.indiatimes.com/city/bengaluru/celebrations-turn-tragic-bloodbath-at-rcbs-maiden-ipl-trophy-victory-day-to-remember-forever-see-pics/photostory/121646177.cms)[Celebrations turn tragic: Bloodbath at RCB’s maiden IPL trophy victory, day to remember forever | see pics Lakhs of fans had gathered around Chinnaswamy Stadium, celebrating RCB’s historic first-ever IPL title with joy and excitement.Times Of\",\n",
       "  'score': 0.7657514},\n",
       " {'title': 'RCB victory parade stampede updates: Bengaluru city chief B ...',\n",
       "  'url': 'https://www.thehindu.com/news/national/rcb-ipl-victory-parade-stampede-death-toll-virat-kohli-chinnaswamy-stadium-live/article69656707.ece',\n",
       "  'content': 'Sachin Tendulkar has offered his condolences on the loss of 11 lives in a stampede outside Bengaluru’s Chinnaswamy Stadium during RCB’s IPL victory celebrations, describing the incident as “beyond tragic”.\\n\\nOn the day the stampede broke out in Bengaluru while celebrating the victory of Royal Challengers Bengaluru (RCB) in the IPL final, killing 11 and leaving scores injured, the Namma Metro witnessed unprecedented footfall. [...] A stampede that broke out near the Chinnaswamy stadium in Bengaluru, after fans gathered to celebrate Royal Challengers Bengaluru’s IPL win, led to the [deaths of 11 persons and injuries to 33](https://www.thehindu.com/news/cities/bangalore/rcb-ipl-victory-celebrations-stampede-bengaluru-death-toll/article69656538.ece) on Wednesday (June 4, 2025). The tragedy unfolded near the gates of the stadium, where over 2 lakh fans had gathered to mark RCB’s historic first title win in 18 years. [...] As jubilation intensified, the crowds turned frantic and were uncontrollable, steadily leading to a stampede. Soon, wails and shouting began to be heard and even before one could realize what was happening, people fell down and became unconscious, who had to be rushed to nearby hospitals. *- PTI*',\n",
       "  'score': 0.73596483},\n",
       " {'title': \"What led to the deadly stampede during RCB's victory celebrations ...\",\n",
       "  'url': 'https://www.youtube.com/watch?v=S5eb3p3kwDc',\n",
       "  'content': '### Description\\n65563 views\\nPosted: 4 Jun 2025\\nBangalore Stampede: RCB’s IPL win brought lakhs to the streets of Bengaluru—but celebration turned into chaos. A stampede near Chinnaswamy Stadium left 11 dead and dozens injured. Miscommunication, crowd mismanagement, and political blame followed. Here’s a breakdown of what happened and why it spiraled out of control.\\n\\n#bangalorestampede #chinnaswamystadium #rcbvictoryparade #rcb #rcbstampede',\n",
       "  'score': 0.7304634},\n",
       " {'title': \"RCB shredded for 'error in judgment' during victory celebrations in ...\",\n",
       "  'url': 'https://www.hindustantimes.com/cricket/rcb-shredded-for-error-in-judgment-during-victory-celebrations-in-bengaluru-take-a-day-off-to-just-plan-101749827328382.html',\n",
       "  'content': \"However, celebrations took a horrendous turn as a stampede occurred outside the M Chinnaswamy Stadium, resulting in the death of 11 RCB fans. More than 30 people were left injured. Former India batter [Robin Uthappa](https://www.hindustantimes.com/cricket/players/robin-uthappa-3723) has weighed in on the issue, saying RCB's trophy win would always be marred by the loss of lives. [...] After the loss of 11 lives, RCB announced INR 10 lakh for all of those families who lost someone from their household during the stampede. Following the incident, RCB's head of marketing and revenue, Nikhil Sosale was also arrested. He was then granted interim bail on June 12 but was asked to surrender his passport.\",\n",
       "  'score': 0.7253574}]"
      ]
     },
     "execution_count": 12,
     "metadata": {},
     "output_type": "execute_result"
    }
   ],
   "source": [
    "tavily_search.invoke({\"query\":\"what happened in RCB Victory\"})"
   ]
  }
 ],
 "metadata": {
  "kernelspec": {
   "display_name": "base",
   "language": "python",
   "name": "python3"
  },
  "language_info": {
   "codemirror_mode": {
    "name": "ipython",
    "version": 3
   },
   "file_extension": ".py",
   "mimetype": "text/x-python",
   "name": "python",
   "nbconvert_exporter": "python",
   "pygments_lexer": "ipython3",
   "version": "3.12.4"
  }
 },
 "nbformat": 4,
 "nbformat_minor": 5
}
